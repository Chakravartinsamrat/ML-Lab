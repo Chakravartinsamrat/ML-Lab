{
 "cells": [
  {
   "cell_type": "code",
   "execution_count": 1,
   "id": "955b8434",
   "metadata": {},
   "outputs": [],
   "source": [
    "from sklearn.linear_model import LinearRegression\n",
    "from sklearn.metrics import mean_squared_error, r2_score\n",
    "import pandas as pd\n",
    "import numpy as np\n",
    "import matplotlib.pyplot as plt\n",
    "import seaborn as sns"
   ]
  },
  {
   "cell_type": "code",
   "execution_count": 2,
   "id": "5f1b7e96",
   "metadata": {},
   "outputs": [],
   "source": [
    "data= pd.read_csv('./datasets_lab/kc_house_data.csv')"
   ]
  },
  {
   "cell_type": "code",
   "execution_count": 3,
   "id": "9793a866",
   "metadata": {},
   "outputs": [
    {
     "data": {
      "text/html": [
       "<div>\n",
       "<style scoped>\n",
       "    .dataframe tbody tr th:only-of-type {\n",
       "        vertical-align: middle;\n",
       "    }\n",
       "\n",
       "    .dataframe tbody tr th {\n",
       "        vertical-align: top;\n",
       "    }\n",
       "\n",
       "    .dataframe thead th {\n",
       "        text-align: right;\n",
       "    }\n",
       "</style>\n",
       "<table border=\"1\" class=\"dataframe\">\n",
       "  <thead>\n",
       "    <tr style=\"text-align: right;\">\n",
       "      <th></th>\n",
       "      <th>id</th>\n",
       "      <th>date</th>\n",
       "      <th>price</th>\n",
       "      <th>bedrooms</th>\n",
       "      <th>bathrooms</th>\n",
       "      <th>sqft_living</th>\n",
       "      <th>sqft_lot</th>\n",
       "      <th>floors</th>\n",
       "      <th>waterfront</th>\n",
       "      <th>view</th>\n",
       "      <th>...</th>\n",
       "      <th>grade</th>\n",
       "      <th>sqft_above</th>\n",
       "      <th>sqft_basement</th>\n",
       "      <th>yr_built</th>\n",
       "      <th>yr_renovated</th>\n",
       "      <th>zipcode</th>\n",
       "      <th>lat</th>\n",
       "      <th>long</th>\n",
       "      <th>sqft_living15</th>\n",
       "      <th>sqft_lot15</th>\n",
       "    </tr>\n",
       "  </thead>\n",
       "  <tbody>\n",
       "    <tr>\n",
       "      <th>0</th>\n",
       "      <td>7129300520</td>\n",
       "      <td>20141013T000000</td>\n",
       "      <td>221900.0</td>\n",
       "      <td>3</td>\n",
       "      <td>1.00</td>\n",
       "      <td>1180</td>\n",
       "      <td>5650</td>\n",
       "      <td>1.0</td>\n",
       "      <td>0</td>\n",
       "      <td>0</td>\n",
       "      <td>...</td>\n",
       "      <td>7</td>\n",
       "      <td>1180</td>\n",
       "      <td>0</td>\n",
       "      <td>1955</td>\n",
       "      <td>0</td>\n",
       "      <td>98178</td>\n",
       "      <td>47.5112</td>\n",
       "      <td>-122.257</td>\n",
       "      <td>1340</td>\n",
       "      <td>5650</td>\n",
       "    </tr>\n",
       "    <tr>\n",
       "      <th>1</th>\n",
       "      <td>6414100192</td>\n",
       "      <td>20141209T000000</td>\n",
       "      <td>538000.0</td>\n",
       "      <td>3</td>\n",
       "      <td>2.25</td>\n",
       "      <td>2570</td>\n",
       "      <td>7242</td>\n",
       "      <td>2.0</td>\n",
       "      <td>0</td>\n",
       "      <td>0</td>\n",
       "      <td>...</td>\n",
       "      <td>7</td>\n",
       "      <td>2170</td>\n",
       "      <td>400</td>\n",
       "      <td>1951</td>\n",
       "      <td>1991</td>\n",
       "      <td>98125</td>\n",
       "      <td>47.7210</td>\n",
       "      <td>-122.319</td>\n",
       "      <td>1690</td>\n",
       "      <td>7639</td>\n",
       "    </tr>\n",
       "    <tr>\n",
       "      <th>2</th>\n",
       "      <td>5631500400</td>\n",
       "      <td>20150225T000000</td>\n",
       "      <td>180000.0</td>\n",
       "      <td>2</td>\n",
       "      <td>1.00</td>\n",
       "      <td>770</td>\n",
       "      <td>10000</td>\n",
       "      <td>1.0</td>\n",
       "      <td>0</td>\n",
       "      <td>0</td>\n",
       "      <td>...</td>\n",
       "      <td>6</td>\n",
       "      <td>770</td>\n",
       "      <td>0</td>\n",
       "      <td>1933</td>\n",
       "      <td>0</td>\n",
       "      <td>98028</td>\n",
       "      <td>47.7379</td>\n",
       "      <td>-122.233</td>\n",
       "      <td>2720</td>\n",
       "      <td>8062</td>\n",
       "    </tr>\n",
       "    <tr>\n",
       "      <th>3</th>\n",
       "      <td>2487200875</td>\n",
       "      <td>20141209T000000</td>\n",
       "      <td>604000.0</td>\n",
       "      <td>4</td>\n",
       "      <td>3.00</td>\n",
       "      <td>1960</td>\n",
       "      <td>5000</td>\n",
       "      <td>1.0</td>\n",
       "      <td>0</td>\n",
       "      <td>0</td>\n",
       "      <td>...</td>\n",
       "      <td>7</td>\n",
       "      <td>1050</td>\n",
       "      <td>910</td>\n",
       "      <td>1965</td>\n",
       "      <td>0</td>\n",
       "      <td>98136</td>\n",
       "      <td>47.5208</td>\n",
       "      <td>-122.393</td>\n",
       "      <td>1360</td>\n",
       "      <td>5000</td>\n",
       "    </tr>\n",
       "    <tr>\n",
       "      <th>4</th>\n",
       "      <td>1954400510</td>\n",
       "      <td>20150218T000000</td>\n",
       "      <td>510000.0</td>\n",
       "      <td>3</td>\n",
       "      <td>2.00</td>\n",
       "      <td>1680</td>\n",
       "      <td>8080</td>\n",
       "      <td>1.0</td>\n",
       "      <td>0</td>\n",
       "      <td>0</td>\n",
       "      <td>...</td>\n",
       "      <td>8</td>\n",
       "      <td>1680</td>\n",
       "      <td>0</td>\n",
       "      <td>1987</td>\n",
       "      <td>0</td>\n",
       "      <td>98074</td>\n",
       "      <td>47.6168</td>\n",
       "      <td>-122.045</td>\n",
       "      <td>1800</td>\n",
       "      <td>7503</td>\n",
       "    </tr>\n",
       "  </tbody>\n",
       "</table>\n",
       "<p>5 rows × 21 columns</p>\n",
       "</div>"
      ],
      "text/plain": [
       "           id             date     price  bedrooms  bathrooms  sqft_living  \\\n",
       "0  7129300520  20141013T000000  221900.0         3       1.00         1180   \n",
       "1  6414100192  20141209T000000  538000.0         3       2.25         2570   \n",
       "2  5631500400  20150225T000000  180000.0         2       1.00          770   \n",
       "3  2487200875  20141209T000000  604000.0         4       3.00         1960   \n",
       "4  1954400510  20150218T000000  510000.0         3       2.00         1680   \n",
       "\n",
       "   sqft_lot  floors  waterfront  view  ...  grade  sqft_above  sqft_basement  \\\n",
       "0      5650     1.0           0     0  ...      7        1180              0   \n",
       "1      7242     2.0           0     0  ...      7        2170            400   \n",
       "2     10000     1.0           0     0  ...      6         770              0   \n",
       "3      5000     1.0           0     0  ...      7        1050            910   \n",
       "4      8080     1.0           0     0  ...      8        1680              0   \n",
       "\n",
       "   yr_built  yr_renovated  zipcode      lat     long  sqft_living15  \\\n",
       "0      1955             0    98178  47.5112 -122.257           1340   \n",
       "1      1951          1991    98125  47.7210 -122.319           1690   \n",
       "2      1933             0    98028  47.7379 -122.233           2720   \n",
       "3      1965             0    98136  47.5208 -122.393           1360   \n",
       "4      1987             0    98074  47.6168 -122.045           1800   \n",
       "\n",
       "   sqft_lot15  \n",
       "0        5650  \n",
       "1        7639  \n",
       "2        8062  \n",
       "3        5000  \n",
       "4        7503  \n",
       "\n",
       "[5 rows x 21 columns]"
      ]
     },
     "execution_count": 3,
     "metadata": {},
     "output_type": "execute_result"
    }
   ],
   "source": [
    "data.head()"
   ]
  },
  {
   "cell_type": "code",
   "execution_count": 4,
   "id": "c9e01c4e",
   "metadata": {},
   "outputs": [
    {
     "name": "stdout",
     "output_type": "stream",
     "text": [
      "          price  bedrooms  bathrooms  sqft_living  sqft_lot  floors  \\\n",
      "0      221900.0         3       1.00         1180      5650     1.0   \n",
      "1      538000.0         3       2.25         2570      7242     2.0   \n",
      "2      180000.0         2       1.00          770     10000     1.0   \n",
      "3      604000.0         4       3.00         1960      5000     1.0   \n",
      "4      510000.0         3       2.00         1680      8080     1.0   \n",
      "...         ...       ...        ...          ...       ...     ...   \n",
      "21608  360000.0         3       2.50         1530      1131     3.0   \n",
      "21609  400000.0         4       2.50         2310      5813     2.0   \n",
      "21610  402101.0         2       0.75         1020      1350     2.0   \n",
      "21611  400000.0         3       2.50         1600      2388     2.0   \n",
      "21612  325000.0         2       0.75         1020      1076     2.0   \n",
      "\n",
      "       waterfront  view  condition  grade  sqft_above  sqft_basement  \\\n",
      "0               0     0          3      7        1180              0   \n",
      "1               0     0          3      7        2170            400   \n",
      "2               0     0          3      6         770              0   \n",
      "3               0     0          5      7        1050            910   \n",
      "4               0     0          3      8        1680              0   \n",
      "...           ...   ...        ...    ...         ...            ...   \n",
      "21608           0     0          3      8        1530              0   \n",
      "21609           0     0          3      8        2310              0   \n",
      "21610           0     0          3      7        1020              0   \n",
      "21611           0     0          3      8        1600              0   \n",
      "21612           0     0          3      7        1020              0   \n",
      "\n",
      "       yr_built  yr_renovated  zipcode      lat     long  sqft_living15  \\\n",
      "0          1955             0    98178  47.5112 -122.257           1340   \n",
      "1          1951          1991    98125  47.7210 -122.319           1690   \n",
      "2          1933             0    98028  47.7379 -122.233           2720   \n",
      "3          1965             0    98136  47.5208 -122.393           1360   \n",
      "4          1987             0    98074  47.6168 -122.045           1800   \n",
      "...         ...           ...      ...      ...      ...            ...   \n",
      "21608      2009             0    98103  47.6993 -122.346           1530   \n",
      "21609      2014             0    98146  47.5107 -122.362           1830   \n",
      "21610      2009             0    98144  47.5944 -122.299           1020   \n",
      "21611      2004             0    98027  47.5345 -122.069           1410   \n",
      "21612      2008             0    98144  47.5941 -122.299           1020   \n",
      "\n",
      "       sqft_lot15  \n",
      "0            5650  \n",
      "1            7639  \n",
      "2            8062  \n",
      "3            5000  \n",
      "4            7503  \n",
      "...           ...  \n",
      "21608        1509  \n",
      "21609        7200  \n",
      "21610        2007  \n",
      "21611        1287  \n",
      "21612        1357  \n",
      "\n",
      "[21613 rows x 19 columns]\n"
     ]
    }
   ],
   "source": [
    "data= data.drop([\"id\",\"date\"],axis=1)\n",
    "print(data)"
   ]
  },
  {
   "cell_type": "code",
   "execution_count": 5,
   "id": "f3de5446",
   "metadata": {},
   "outputs": [],
   "source": [
    "y= data[\"price\"]\n",
    "X= data.drop(['price'],axis=1)"
   ]
  },
  {
   "cell_type": "code",
   "execution_count": 6,
   "id": "f045ca83",
   "metadata": {},
   "outputs": [],
   "source": [
    "from sklearn.model_selection import train_test_split\n",
    "X_train,X_test, y_train, y_test= train_test_split(X,y,test_size=0.10,random_state =2)"
   ]
  },
  {
   "cell_type": "code",
   "execution_count": 7,
   "id": "150e9521",
   "metadata": {},
   "outputs": [
    {
     "name": "stdout",
     "output_type": "stream",
     "text": [
      "[ 708968.57473737 1454115.56763596  422619.27778277 ...  191420.54893178\n",
      "  238056.68598477  451235.02573474]\n"
     ]
    },
    {
     "data": {
      "text/plain": [
       "0.7320342760357386"
      ]
     },
     "execution_count": 7,
     "metadata": {},
     "output_type": "execute_result"
    }
   ],
   "source": [
    "reg = LinearRegression()\n",
    "reg.fit(X_train,y_train)\n",
    "\n",
    "y_prediction=reg.predict(X_test)\n",
    "print(y_prediction)\n",
    "reg.score(X_test,y_test)"
   ]
  },
  {
   "cell_type": "code",
   "execution_count": 8,
   "id": "fb41a1ff",
   "metadata": {},
   "outputs": [
    {
     "data": {
      "image/png": "[encoded data removed]",
      "text/plain": [
       "<Figure size 640x480 with 1 Axes>"
      ]
     },
     "metadata": {},
     "output_type": "display_data"
    }
   ],
   "source": [
    "\n",
    "plt.scatter(X_test.iloc[:, 0], y_test, color=\"black\", label=\"Actual Prices\")\n",
    "plt.scatter(X_test.iloc[:, 0], y_prediction, color=\"blue\", label=\"Predicted Prices\", linewidth=3)\n",
    "plt.xlabel('Feature Name')  \n",
    "plt.ylabel('Price')\n",
    "plt.legend()\n",
    "plt.show()\n"
   ]
  },
  {
   "cell_type": "code",
   "execution_count": 9,
   "id": "17c2b106",
   "metadata": {},
   "outputs": [
    {
     "data": {
      "text/plain": [
       "38916"
      ]
     },
     "execution_count": 9,
     "metadata": {},
     "output_type": "execute_result"
    }
   ],
   "source": [
    "X_test.size"
   ]
  },
  {
   "cell_type": "code",
   "execution_count": 15,
   "id": "5638e46d",
   "metadata": {},
   "outputs": [
    {
     "data": {
      "text/plain": [
       "2162"
      ]
     },
     "execution_count": 15,
     "metadata": {},
     "output_type": "execute_result"
    }
   ],
   "source": [
    "y_test.size\n",
    "y_prediction.size"
   ]
  },
  {
   "cell_type": "code",
   "execution_count": 11,
   "id": "3a6d7e74",
   "metadata": {
    "scrolled": true
   },
   "outputs": [
    {
     "name": "stdout",
     "output_type": "stream",
     "text": [
      "Coefficients: \n",
      " [-3.69584689e+04  3.99944474e+04  1.12442724e+02  1.05110204e-01\n",
      "  6.09005604e+03  6.03577974e+05  5.14093954e+04  2.61292108e+04\n",
      "  9.39146205e+04  7.03934445e+01  4.20492792e+01 -2.56363788e+03\n",
      "  1.97755242e+01 -5.81262588e+02  6.06931004e+05 -2.14720057e+05\n",
      "  2.18724560e+01 -3.52080103e-01]\n"
     ]
    }
   ],
   "source": [
    "print(\"Coefficients: \\n\", reg.coef_)"
   ]
  },
  {
   "cell_type": "code",
   "execution_count": 18,
   "id": "47cab551",
   "metadata": {},
   "outputs": [
    {
     "data": {
      "text/plain": [
       "39156588377.35194"
      ]
     },
     "execution_count": 18,
     "metadata": {},
     "output_type": "execute_result"
    }
   ],
   "source": [
    "from sklearn.metrics import mean_squared_error\n",
    "mse= mean_squared_error(y_test, y_prediction)\n",
    "mse\n"
   ]
  },
  {
   "cell_type": "code",
   "execution_count": null,
   "id": "27fce7b9-39b2-4c23-b556-0a0439cfd8f6",
   "metadata": {},
   "outputs": [],
   "source": []
  }
 ],
 "metadata": {
  "kernelspec": {
   "display_name": "Python 3 (ipykernel)",
   "language": "python",
   "name": "python3"
  },
  "language_info": {
   "codemirror_mode": {
    "name": "ipython",
    "version": 3
   },
   "file_extension": ".py",
   "mimetype": "text/x-python",
   "name": "python",
   "nbconvert_exporter": "python",
   "pygments_lexer": "ipython3",
   "version": "3.12.4"
  }
 },
 "nbformat": 4,
 "nbformat_minor": 5
}
