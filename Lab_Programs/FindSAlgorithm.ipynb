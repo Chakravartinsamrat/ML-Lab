{
 "cells": [
  {
   "cell_type": "code",
   "execution_count": 1,
   "id": "94d8b69c-6328-4c74-9268-85fdd2ef91ff",
   "metadata": {},
   "outputs": [],
   "source": [
    "import csv"
   ]
  },
  {
   "cell_type": "code",
   "execution_count": 2,
   "id": "bb1a96ae-f218-462d-8523-f7fce4e6b40d",
   "metadata": {},
   "outputs": [
    {
     "name": "stdout",
     "output_type": "stream",
     "text": [
      "[['sunny', 'warm', 'normal', 'strong', 'warm', 'same', 'YES'], ['sunny', 'warm', 'high', 'strong', 'warm', 'same', 'YES'], ['rainy', 'cold', 'high', 'strong', 'warm', 'change', 'NO'], ['sunny', 'warm', 'high', 'strong', 'cool', 'change', 'YES']]\n"
     ]
    }
   ],
   "source": [
    "filename=\"./datasets_lab/FindSDataset.csv\"\n",
    "with open(filename,'r') as cf:\n",
    "    reader= csv.reader(cf,delimiter=',')\n",
    "    train=[]\n",
    "    for row in reader:\n",
    "        train.append(row)\n",
    "print(train)"
   ]
  },
  {
   "cell_type": "code",
   "execution_count": 11,
   "id": "44f76fa4-1745-4f41-8a44-ab13b428207e",
   "metadata": {},
   "outputs": [
    {
     "name": "stdout",
     "output_type": "stream",
     "text": [
      "['0', '0', '0', '0', '0', '0']\n"
     ]
    }
   ],
   "source": [
    "row, col = len(train), len(train[0]) -1\n",
    "hypo=['0'] * col\n",
    "print(hypo)"
   ]
  },
  {
   "cell_type": "code",
   "execution_count": 12,
   "id": "0b021cd1-aa30-4a59-b633-5b5b098a084a",
   "metadata": {},
   "outputs": [
    {
     "name": "stdout",
     "output_type": "stream",
     "text": [
      "Specific Hypothesis is ['sunny', 'warm', '?', 'strong', '?', '?']\n"
     ]
    }
   ],
   "source": [
    "#find s algo\n",
    "for i in range(row):\n",
    "    if(train[i][6]==\"YES\"):\n",
    "        for j in range(col):\n",
    "            if(hypo[j] == '0'):\n",
    "                hypo[j]= train[i][j]\n",
    "            else:\n",
    "                if(hypo[j]!=train[i][j]):\n",
    "                    hypo[j]=\"?\"\n",
    "print(\"Specific Hypothesis is\",hypo)"
   ]
  },
  {
   "cell_type": "code",
   "execution_count": 13,
   "id": "5f202515-b1c9-4c41-9469-a015b0c7bb3e",
   "metadata": {},
   "outputs": [
    {
     "data": {
      "text/plain": [
       "(4, 7)"
      ]
     },
     "execution_count": 13,
     "metadata": {},
     "output_type": "execute_result"
    }
   ],
   "source": [
    "len(train), len(train[0])"
   ]
  },
  {
   "cell_type": "code",
   "execution_count": null,
   "id": "c097fa96-54d7-4f11-9a24-3d5ede83cfb3",
   "metadata": {},
   "outputs": [],
   "source": []
  }
 ],
 "metadata": {
  "kernelspec": {
   "display_name": "Python 3 (ipykernel)",
   "language": "python",
   "name": "python3"
  },
  "language_info": {
   "codemirror_mode": {
    "name": "ipython",
    "version": 3
   },
   "file_extension": ".py",
   "mimetype": "text/x-python",
   "name": "python",
   "nbconvert_exporter": "python",
   "pygments_lexer": "ipython3",
   "version": "3.12.0"
  }
 },
 "nbformat": 4,
 "nbformat_minor": 5
}
