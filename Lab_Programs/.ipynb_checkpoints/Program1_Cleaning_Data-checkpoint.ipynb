{
 "cells": [
  {
   "cell_type": "code",
   "execution_count": 1,
   "id": "2a3e3072-6a14-4ab0-b47b-e6b22e749798",
   "metadata": {},
   "outputs": [
    {
     "name": "stdout",
     "output_type": "stream",
     "text": [
      "Requirement already satisfied: tensorflow in c:\\users\\piyus\\appdata\\roaming\\python\\python312\\site-packages (2.17.0)\n",
      "Requirement already satisfied: tensorflow-intel==2.17.0 in c:\\users\\piyus\\appdata\\roaming\\python\\python312\\site-packages (from tensorflow) (2.17.0)\n",
      "Requirement already satisfied: absl-py>=1.0.0 in c:\\users\\piyus\\appdata\\roaming\\python\\python312\\site-packages (from tensorflow-intel==2.17.0->tensorflow) (2.1.0)\n",
      "Requirement already satisfied: astunparse>=1.6.0 in c:\\users\\piyus\\appdata\\roaming\\python\\python312\\site-packages (from tensorflow-intel==2.17.0->tensorflow) (1.6.3)\n",
      "Requirement already satisfied: flatbuffers>=24.3.25 in c:\\users\\piyus\\appdata\\roaming\\python\\python312\\site-packages (from tensorflow-intel==2.17.0->tensorflow) (24.3.25)\n",
      "Requirement already satisfied: gast!=0.5.0,!=0.5.1,!=0.5.2,>=0.2.1 in c:\\users\\piyus\\appdata\\roaming\\python\\python312\\site-packages (from tensorflow-intel==2.17.0->tensorflow) (0.6.0)\n",
      "Requirement already satisfied: google-pasta>=0.1.1 in c:\\users\\piyus\\appdata\\roaming\\python\\python312\\site-packages (from tensorflow-intel==2.17.0->tensorflow) (0.2.0)\n",
      "Requirement already satisfied: h5py>=3.10.0 in c:\\users\\piyus\\appdata\\local\\programs\\python\\python312\\lib\\site-packages (from tensorflow-intel==2.17.0->tensorflow) (3.10.0)\n",
      "Requirement already satisfied: libclang>=13.0.0 in c:\\users\\piyus\\appdata\\roaming\\python\\python312\\site-packages (from tensorflow-intel==2.17.0->tensorflow) (18.1.1)\n",
      "Requirement already satisfied: ml-dtypes<0.5.0,>=0.3.1 in c:\\users\\piyus\\appdata\\roaming\\python\\python312\\site-packages (from tensorflow-intel==2.17.0->tensorflow) (0.4.0)\n",
      "Requirement already satisfied: opt-einsum>=2.3.2 in c:\\users\\piyus\\appdata\\roaming\\python\\python312\\site-packages (from tensorflow-intel==2.17.0->tensorflow) (3.3.0)\n",
      "Requirement already satisfied: packaging in c:\\users\\piyus\\appdata\\local\\programs\\python\\python312\\lib\\site-packages (from tensorflow-intel==2.17.0->tensorflow) (23.2)\n",
      "Requirement already satisfied: protobuf!=4.21.0,!=4.21.1,!=4.21.2,!=4.21.3,!=4.21.4,!=4.21.5,<5.0.0dev,>=3.20.3 in c:\\users\\piyus\\appdata\\local\\programs\\python\\python312\\lib\\site-packages (from tensorflow-intel==2.17.0->tensorflow) (4.25.3)\n",
      "Requirement already satisfied: requests<3,>=2.21.0 in c:\\users\\piyus\\appdata\\local\\programs\\python\\python312\\lib\\site-packages (from tensorflow-intel==2.17.0->tensorflow) (2.31.0)\n",
      "Requirement already satisfied: setuptools in c:\\users\\piyus\\appdata\\local\\programs\\python\\python312\\lib\\site-packages (from tensorflow-intel==2.17.0->tensorflow) (69.2.0)\n",
      "Requirement already satisfied: six>=1.12.0 in c:\\users\\piyus\\appdata\\local\\programs\\python\\python312\\lib\\site-packages (from tensorflow-intel==2.17.0->tensorflow) (1.16.0)\n",
      "Requirement already satisfied: termcolor>=1.1.0 in c:\\users\\piyus\\appdata\\roaming\\python\\python312\\site-packages (from tensorflow-intel==2.17.0->tensorflow) (2.4.0)\n",
      "Requirement already satisfied: typing-extensions>=3.6.6 in c:\\users\\piyus\\appdata\\local\\programs\\python\\python312\\lib\\site-packages (from tensorflow-intel==2.17.0->tensorflow) (4.12.2)\n",
      "Requirement already satisfied: wrapt>=1.11.0 in c:\\users\\piyus\\appdata\\local\\programs\\python\\python312\\lib\\site-packages (from tensorflow-intel==2.17.0->tensorflow) (1.16.0)\n",
      "Requirement already satisfied: grpcio<2.0,>=1.24.3 in c:\\users\\piyus\\appdata\\roaming\\python\\python312\\site-packages (from tensorflow-intel==2.17.0->tensorflow) (1.66.1)\n",
      "Requirement already satisfied: tensorboard<2.18,>=2.17 in c:\\users\\piyus\\appdata\\roaming\\python\\python312\\site-packages (from tensorflow-intel==2.17.0->tensorflow) (2.17.1)\n",
      "Requirement already satisfied: keras>=3.2.0 in c:\\users\\piyus\\appdata\\roaming\\python\\python312\\site-packages (from tensorflow-intel==2.17.0->tensorflow) (3.5.0)\n",
      "Requirement already satisfied: numpy<2.0.0,>=1.26.0 in c:\\users\\piyus\\appdata\\local\\programs\\python\\python312\\lib\\site-packages (from tensorflow-intel==2.17.0->tensorflow) (1.26.4)\n",
      "Requirement already satisfied: wheel<1.0,>=0.23.0 in c:\\users\\piyus\\appdata\\local\\programs\\python\\python312\\lib\\site-packages (from astunparse>=1.6.0->tensorflow-intel==2.17.0->tensorflow) (0.43.0)\n",
      "Requirement already satisfied: rich in c:\\users\\piyus\\appdata\\local\\programs\\python\\python312\\lib\\site-packages (from keras>=3.2.0->tensorflow-intel==2.17.0->tensorflow) (13.7.1)\n",
      "Requirement already satisfied: namex in c:\\users\\piyus\\appdata\\roaming\\python\\python312\\site-packages (from keras>=3.2.0->tensorflow-intel==2.17.0->tensorflow) (0.0.8)\n",
      "Requirement already satisfied: optree in c:\\users\\piyus\\appdata\\roaming\\python\\python312\\site-packages (from keras>=3.2.0->tensorflow-intel==2.17.0->tensorflow) (0.12.1)\n",
      "Requirement already satisfied: charset-normalizer<4,>=2 in c:\\users\\piyus\\appdata\\local\\programs\\python\\python312\\lib\\site-packages (from requests<3,>=2.21.0->tensorflow-intel==2.17.0->tensorflow) (3.3.2)\n",
      "Requirement already satisfied: idna<4,>=2.5 in c:\\users\\piyus\\appdata\\local\\programs\\python\\python312\\lib\\site-packages (from requests<3,>=2.21.0->tensorflow-intel==2.17.0->tensorflow) (3.6)\n",
      "Requirement already satisfied: urllib3<3,>=1.21.1 in c:\\users\\piyus\\appdata\\local\\programs\\python\\python312\\lib\\site-packages (from requests<3,>=2.21.0->tensorflow-intel==2.17.0->tensorflow) (2.2.1)\n",
      "Requirement already satisfied: certifi>=2017.4.17 in c:\\users\\piyus\\appdata\\local\\programs\\python\\python312\\lib\\site-packages (from requests<3,>=2.21.0->tensorflow-intel==2.17.0->tensorflow) (2024.2.2)\n",
      "Requirement already satisfied: markdown>=2.6.8 in c:\\users\\piyus\\appdata\\local\\programs\\python\\python312\\lib\\site-packages (from tensorboard<2.18,>=2.17->tensorflow-intel==2.17.0->tensorflow) (3.6)\n",
      "Requirement already satisfied: tensorboard-data-server<0.8.0,>=0.7.0 in c:\\users\\piyus\\appdata\\roaming\\python\\python312\\site-packages (from tensorboard<2.18,>=2.17->tensorflow-intel==2.17.0->tensorflow) (0.7.2)\n",
      "Requirement already satisfied: werkzeug>=1.0.1 in c:\\users\\piyus\\appdata\\local\\programs\\python\\python312\\lib\\site-packages (from tensorboard<2.18,>=2.17->tensorflow-intel==2.17.0->tensorflow) (3.0.1)\n",
      "Requirement already satisfied: MarkupSafe>=2.1.1 in c:\\users\\piyus\\appdata\\local\\programs\\python\\python312\\lib\\site-packages (from werkzeug>=1.0.1->tensorboard<2.18,>=2.17->tensorflow-intel==2.17.0->tensorflow) (2.1.5)\n",
      "Requirement already satisfied: markdown-it-py>=2.2.0 in c:\\users\\piyus\\appdata\\local\\programs\\python\\python312\\lib\\site-packages (from rich->keras>=3.2.0->tensorflow-intel==2.17.0->tensorflow) (3.0.0)\n",
      "Requirement already satisfied: pygments<3.0.0,>=2.13.0 in c:\\users\\piyus\\appdata\\local\\programs\\python\\python312\\lib\\site-packages (from rich->keras>=3.2.0->tensorflow-intel==2.17.0->tensorflow) (2.17.2)\n",
      "Requirement already satisfied: mdurl~=0.1 in c:\\users\\piyus\\appdata\\local\\programs\\python\\python312\\lib\\site-packages (from markdown-it-py>=2.2.0->rich->keras>=3.2.0->tensorflow-intel==2.17.0->tensorflow) (0.1.2)\n",
      "Note: you may need to restart the kernel to use updated packages.\n"
     ]
    }
   ],
   "source": [
    "pip install tensorflow\n"
   ]
  },
  {
   "cell_type": "code",
   "execution_count": 2,
   "id": "160863c1-3d5a-4a82-a4fc-b5e1b4b3ee21",
   "metadata": {},
   "outputs": [],
   "source": [
    "import numpy as np\n",
    "import pandas as pd\n",
    "import scipy as sp\n",
    "import os\n",
    "import tensorflow as tf\n",
    "import matplotlib.pyplot as plt\n",
    "from sklearn.preprocessing import MinMaxScaler\n",
    "from tensorflow.keras.layers import Dense, Input\n",
    "from tensorflow.keras import Sequential\n",
    "from sklearn.model_selection import train_test_split\n",
    "from sklearn.preprocessing import StandardScaler"
   ]
  },
  {
   "cell_type": "code",
   "execution_count": 3,
   "id": "dd34107a-962f-40ee-889e-6db5ceedd05e",
   "metadata": {},
   "outputs": [
    {
     "name": "stdout",
     "output_type": "stream",
     "text": [
      "C:\\Users\\piyus\\Documents\\GitHub\\Machine Learning\\Lab_Programs\n"
     ]
    }
   ],
   "source": [
    "cwd = os.getcwd()\n",
    "print(cwd)"
   ]
  },
  {
   "cell_type": "markdown",
   "id": "47da57b0-dc95-4dfb-ab1a-a80ff2ce7898",
   "metadata": {},
   "source": [
    "Okay so, Identified Trend here is, if a patient has high glucose level and high blood pressure, he might have diabetes, also if the patient is taking insulin then it's a confirmation that he has diabetes."
   ]
  },
  {
   "cell_type": "code",
   "execution_count": 4,
   "id": "241901d1-07fe-4ff0-a4e2-9efbaa44a13c",
   "metadata": {},
   "outputs": [
    {
     "data": {
      "text/html": [
       "<div>\n",
       "<style scoped>\n",
       "    .dataframe tbody tr th:only-of-type {\n",
       "        vertical-align: middle;\n",
       "    }\n",
       "\n",
       "    .dataframe tbody tr th {\n",
       "        vertical-align: top;\n",
       "    }\n",
       "\n",
       "    .dataframe thead th {\n",
       "        text-align: right;\n",
       "    }\n",
       "</style>\n",
       "<table border=\"1\" class=\"dataframe\">\n",
       "  <thead>\n",
       "    <tr style=\"text-align: right;\">\n",
       "      <th></th>\n",
       "      <th>Pregnancies</th>\n",
       "      <th>Glucose</th>\n",
       "      <th>BloodPressure</th>\n",
       "      <th>SkinThickness</th>\n",
       "      <th>Insulin</th>\n",
       "      <th>BMI</th>\n",
       "      <th>DiabetesPedigreeFunction</th>\n",
       "      <th>Age</th>\n",
       "      <th>Outcome</th>\n",
       "    </tr>\n",
       "  </thead>\n",
       "  <tbody>\n",
       "    <tr>\n",
       "      <th>0</th>\n",
       "      <td>6</td>\n",
       "      <td>148</td>\n",
       "      <td>72</td>\n",
       "      <td>35</td>\n",
       "      <td>0</td>\n",
       "      <td>33.6</td>\n",
       "      <td>0.627</td>\n",
       "      <td>50</td>\n",
       "      <td>1</td>\n",
       "    </tr>\n",
       "    <tr>\n",
       "      <th>1</th>\n",
       "      <td>1</td>\n",
       "      <td>85</td>\n",
       "      <td>66</td>\n",
       "      <td>29</td>\n",
       "      <td>0</td>\n",
       "      <td>26.6</td>\n",
       "      <td>0.351</td>\n",
       "      <td>31</td>\n",
       "      <td>0</td>\n",
       "    </tr>\n",
       "    <tr>\n",
       "      <th>2</th>\n",
       "      <td>8</td>\n",
       "      <td>183</td>\n",
       "      <td>64</td>\n",
       "      <td>0</td>\n",
       "      <td>0</td>\n",
       "      <td>23.3</td>\n",
       "      <td>0.672</td>\n",
       "      <td>32</td>\n",
       "      <td>1</td>\n",
       "    </tr>\n",
       "    <tr>\n",
       "      <th>3</th>\n",
       "      <td>1</td>\n",
       "      <td>89</td>\n",
       "      <td>66</td>\n",
       "      <td>23</td>\n",
       "      <td>94</td>\n",
       "      <td>28.1</td>\n",
       "      <td>0.167</td>\n",
       "      <td>21</td>\n",
       "      <td>0</td>\n",
       "    </tr>\n",
       "    <tr>\n",
       "      <th>4</th>\n",
       "      <td>0</td>\n",
       "      <td>137</td>\n",
       "      <td>40</td>\n",
       "      <td>35</td>\n",
       "      <td>168</td>\n",
       "      <td>43.1</td>\n",
       "      <td>2.288</td>\n",
       "      <td>33</td>\n",
       "      <td>1</td>\n",
       "    </tr>\n",
       "    <tr>\n",
       "      <th>5</th>\n",
       "      <td>5</td>\n",
       "      <td>116</td>\n",
       "      <td>74</td>\n",
       "      <td>0</td>\n",
       "      <td>0</td>\n",
       "      <td>25.6</td>\n",
       "      <td>0.201</td>\n",
       "      <td>30</td>\n",
       "      <td>0</td>\n",
       "    </tr>\n",
       "    <tr>\n",
       "      <th>6</th>\n",
       "      <td>3</td>\n",
       "      <td>78</td>\n",
       "      <td>50</td>\n",
       "      <td>32</td>\n",
       "      <td>88</td>\n",
       "      <td>31.0</td>\n",
       "      <td>0.248</td>\n",
       "      <td>26</td>\n",
       "      <td>1</td>\n",
       "    </tr>\n",
       "    <tr>\n",
       "      <th>7</th>\n",
       "      <td>10</td>\n",
       "      <td>115</td>\n",
       "      <td>0</td>\n",
       "      <td>0</td>\n",
       "      <td>0</td>\n",
       "      <td>35.3</td>\n",
       "      <td>0.134</td>\n",
       "      <td>29</td>\n",
       "      <td>0</td>\n",
       "    </tr>\n",
       "    <tr>\n",
       "      <th>8</th>\n",
       "      <td>2</td>\n",
       "      <td>197</td>\n",
       "      <td>70</td>\n",
       "      <td>45</td>\n",
       "      <td>543</td>\n",
       "      <td>30.5</td>\n",
       "      <td>0.158</td>\n",
       "      <td>53</td>\n",
       "      <td>1</td>\n",
       "    </tr>\n",
       "    <tr>\n",
       "      <th>9</th>\n",
       "      <td>8</td>\n",
       "      <td>125</td>\n",
       "      <td>96</td>\n",
       "      <td>0</td>\n",
       "      <td>0</td>\n",
       "      <td>0.0</td>\n",
       "      <td>0.232</td>\n",
       "      <td>54</td>\n",
       "      <td>1</td>\n",
       "    </tr>\n",
       "  </tbody>\n",
       "</table>\n",
       "</div>"
      ],
      "text/plain": [
       "   Pregnancies  Glucose  BloodPressure  SkinThickness  Insulin   BMI  \\\n",
       "0            6      148             72             35        0  33.6   \n",
       "1            1       85             66             29        0  26.6   \n",
       "2            8      183             64              0        0  23.3   \n",
       "3            1       89             66             23       94  28.1   \n",
       "4            0      137             40             35      168  43.1   \n",
       "5            5      116             74              0        0  25.6   \n",
       "6            3       78             50             32       88  31.0   \n",
       "7           10      115              0              0        0  35.3   \n",
       "8            2      197             70             45      543  30.5   \n",
       "9            8      125             96              0        0   0.0   \n",
       "\n",
       "   DiabetesPedigreeFunction  Age  Outcome  \n",
       "0                     0.627   50        1  \n",
       "1                     0.351   31        0  \n",
       "2                     0.672   32        1  \n",
       "3                     0.167   21        0  \n",
       "4                     2.288   33        1  \n",
       "5                     0.201   30        0  \n",
       "6                     0.248   26        1  \n",
       "7                     0.134   29        0  \n",
       "8                     0.158   53        1  \n",
       "9                     0.232   54        1  "
      ]
     },
     "execution_count": 4,
     "metadata": {},
     "output_type": "execute_result"
    }
   ],
   "source": [
    "df= pd.read_csv(\"./datasets_lab/diabetes.csv\")\n",
    "df.head(10)\n"
   ]
  },
  {
   "cell_type": "code",
   "execution_count": 5,
   "id": "897e4f5a-307f-4f84-851b-479545830919",
   "metadata": {},
   "outputs": [
    {
     "data": {
      "text/html": [
       "<div>\n",
       "<style scoped>\n",
       "    .dataframe tbody tr th:only-of-type {\n",
       "        vertical-align: middle;\n",
       "    }\n",
       "\n",
       "    .dataframe tbody tr th {\n",
       "        vertical-align: top;\n",
       "    }\n",
       "\n",
       "    .dataframe thead th {\n",
       "        text-align: right;\n",
       "    }\n",
       "</style>\n",
       "<table border=\"1\" class=\"dataframe\">\n",
       "  <thead>\n",
       "    <tr style=\"text-align: right;\">\n",
       "      <th></th>\n",
       "      <th>Pregnancies</th>\n",
       "      <th>Glucose</th>\n",
       "      <th>BloodPressure</th>\n",
       "      <th>SkinThickness</th>\n",
       "      <th>Insulin</th>\n",
       "      <th>BMI</th>\n",
       "      <th>DiabetesPedigreeFunction</th>\n",
       "      <th>Age</th>\n",
       "      <th>Outcome</th>\n",
       "    </tr>\n",
       "  </thead>\n",
       "  <tbody>\n",
       "    <tr>\n",
       "      <th>count</th>\n",
       "      <td>768.000000</td>\n",
       "      <td>768.000000</td>\n",
       "      <td>768.000000</td>\n",
       "      <td>768.000000</td>\n",
       "      <td>768.000000</td>\n",
       "      <td>768.000000</td>\n",
       "      <td>768.000000</td>\n",
       "      <td>768.000000</td>\n",
       "      <td>768.000000</td>\n",
       "    </tr>\n",
       "    <tr>\n",
       "      <th>mean</th>\n",
       "      <td>3.845052</td>\n",
       "      <td>120.894531</td>\n",
       "      <td>69.105469</td>\n",
       "      <td>20.536458</td>\n",
       "      <td>79.799479</td>\n",
       "      <td>31.992578</td>\n",
       "      <td>0.471876</td>\n",
       "      <td>33.240885</td>\n",
       "      <td>0.348958</td>\n",
       "    </tr>\n",
       "    <tr>\n",
       "      <th>std</th>\n",
       "      <td>3.369578</td>\n",
       "      <td>31.972618</td>\n",
       "      <td>19.355807</td>\n",
       "      <td>15.952218</td>\n",
       "      <td>115.244002</td>\n",
       "      <td>7.884160</td>\n",
       "      <td>0.331329</td>\n",
       "      <td>11.760232</td>\n",
       "      <td>0.476951</td>\n",
       "    </tr>\n",
       "    <tr>\n",
       "      <th>min</th>\n",
       "      <td>0.000000</td>\n",
       "      <td>0.000000</td>\n",
       "      <td>0.000000</td>\n",
       "      <td>0.000000</td>\n",
       "      <td>0.000000</td>\n",
       "      <td>0.000000</td>\n",
       "      <td>0.078000</td>\n",
       "      <td>21.000000</td>\n",
       "      <td>0.000000</td>\n",
       "    </tr>\n",
       "    <tr>\n",
       "      <th>25%</th>\n",
       "      <td>1.000000</td>\n",
       "      <td>99.000000</td>\n",
       "      <td>62.000000</td>\n",
       "      <td>0.000000</td>\n",
       "      <td>0.000000</td>\n",
       "      <td>27.300000</td>\n",
       "      <td>0.243750</td>\n",
       "      <td>24.000000</td>\n",
       "      <td>0.000000</td>\n",
       "    </tr>\n",
       "    <tr>\n",
       "      <th>50%</th>\n",
       "      <td>3.000000</td>\n",
       "      <td>117.000000</td>\n",
       "      <td>72.000000</td>\n",
       "      <td>23.000000</td>\n",
       "      <td>30.500000</td>\n",
       "      <td>32.000000</td>\n",
       "      <td>0.372500</td>\n",
       "      <td>29.000000</td>\n",
       "      <td>0.000000</td>\n",
       "    </tr>\n",
       "    <tr>\n",
       "      <th>75%</th>\n",
       "      <td>6.000000</td>\n",
       "      <td>140.250000</td>\n",
       "      <td>80.000000</td>\n",
       "      <td>32.000000</td>\n",
       "      <td>127.250000</td>\n",
       "      <td>36.600000</td>\n",
       "      <td>0.626250</td>\n",
       "      <td>41.000000</td>\n",
       "      <td>1.000000</td>\n",
       "    </tr>\n",
       "    <tr>\n",
       "      <th>max</th>\n",
       "      <td>17.000000</td>\n",
       "      <td>199.000000</td>\n",
       "      <td>122.000000</td>\n",
       "      <td>99.000000</td>\n",
       "      <td>846.000000</td>\n",
       "      <td>67.100000</td>\n",
       "      <td>2.420000</td>\n",
       "      <td>81.000000</td>\n",
       "      <td>1.000000</td>\n",
       "    </tr>\n",
       "  </tbody>\n",
       "</table>\n",
       "</div>"
      ],
      "text/plain": [
       "       Pregnancies     Glucose  BloodPressure  SkinThickness     Insulin  \\\n",
       "count   768.000000  768.000000     768.000000     768.000000  768.000000   \n",
       "mean      3.845052  120.894531      69.105469      20.536458   79.799479   \n",
       "std       3.369578   31.972618      19.355807      15.952218  115.244002   \n",
       "min       0.000000    0.000000       0.000000       0.000000    0.000000   \n",
       "25%       1.000000   99.000000      62.000000       0.000000    0.000000   \n",
       "50%       3.000000  117.000000      72.000000      23.000000   30.500000   \n",
       "75%       6.000000  140.250000      80.000000      32.000000  127.250000   \n",
       "max      17.000000  199.000000     122.000000      99.000000  846.000000   \n",
       "\n",
       "              BMI  DiabetesPedigreeFunction         Age     Outcome  \n",
       "count  768.000000                768.000000  768.000000  768.000000  \n",
       "mean    31.992578                  0.471876   33.240885    0.348958  \n",
       "std      7.884160                  0.331329   11.760232    0.476951  \n",
       "min      0.000000                  0.078000   21.000000    0.000000  \n",
       "25%     27.300000                  0.243750   24.000000    0.000000  \n",
       "50%     32.000000                  0.372500   29.000000    0.000000  \n",
       "75%     36.600000                  0.626250   41.000000    1.000000  \n",
       "max     67.100000                  2.420000   81.000000    1.000000  "
      ]
     },
     "execution_count": 5,
     "metadata": {},
     "output_type": "execute_result"
    }
   ],
   "source": [
    "df.describe()"
   ]
  },
  {
   "cell_type": "code",
   "execution_count": 6,
   "id": "78e367fc-bf6d-4c85-8ce9-872ca47ff271",
   "metadata": {},
   "outputs": [
    {
     "name": "stdout",
     "output_type": "stream",
     "text": [
      "<class 'pandas.core.frame.DataFrame'>\n",
      "RangeIndex: 768 entries, 0 to 767\n",
      "Data columns (total 9 columns):\n",
      " #   Column                    Non-Null Count  Dtype  \n",
      "---  ------                    --------------  -----  \n",
      " 0   Pregnancies               768 non-null    int64  \n",
      " 1   Glucose                   768 non-null    int64  \n",
      " 2   BloodPressure             768 non-null    int64  \n",
      " 3   SkinThickness             768 non-null    int64  \n",
      " 4   Insulin                   768 non-null    int64  \n",
      " 5   BMI                       768 non-null    float64\n",
      " 6   DiabetesPedigreeFunction  768 non-null    float64\n",
      " 7   Age                       768 non-null    int64  \n",
      " 8   Outcome                   768 non-null    int64  \n",
      "dtypes: float64(2), int64(7)\n",
      "memory usage: 54.1 KB\n"
     ]
    }
   ],
   "source": [
    "df.info()\n"
   ]
  },
  {
   "cell_type": "code",
   "execution_count": 7,
   "id": "fcdb206f-2cd4-4dd5-9877-972e2da6122a",
   "metadata": {},
   "outputs": [
    {
     "data": {
      "text/plain": [
       "Pregnancies                 0\n",
       "Glucose                     0\n",
       "BloodPressure               0\n",
       "SkinThickness               0\n",
       "Insulin                     0\n",
       "BMI                         0\n",
       "DiabetesPedigreeFunction    0\n",
       "Age                         0\n",
       "Outcome                     0\n",
       "dtype: int64"
      ]
     },
     "execution_count": 7,
     "metadata": {},
     "output_type": "execute_result"
    }
   ],
   "source": [
    "df.isnull().sum()\n",
    "#displays all null values and thier count"
   ]
  },
  {
   "cell_type": "code",
   "execution_count": 27,
   "id": "b53330d0-2f5d-4a52-ab3c-4bc1a22eefab",
   "metadata": {},
   "outputs": [],
   "source": [
    "# data.dropna(\"BloodPressure\", 0)\n",
    "# data.dropna(\"BMI\", 0)\n",
    "#data = data[(data[\"BloodPressure\"] != 0) & (data[\"BMI\"] != 0)]\n",
    "#data.head(20)\n",
    "#data.shape\n"
   ]
  },
  {
   "cell_type": "code",
   "execution_count": null,
   "id": "45221622-4aeb-4926-adf4-bdd68ba77ec3",
   "metadata": {},
   "outputs": [],
   "source": [
    "#data.loc[0:2][2:5]\n",
    "#data.loc[0:2,[\"BMI\",\"Age\"]]\n"
   ]
  },
  {
   "cell_type": "code",
   "execution_count": null,
   "id": "10a07028-211e-49f1-92de-90ff48c9c456",
   "metadata": {},
   "outputs": [],
   "source": [
    "#data.iloc[0:3][2:5]\n",
    "#data.iloc[0:5,[2,5]]\n",
    "#column name dont work in this only indexes\n"
   ]
  },
  {
   "cell_type": "code",
   "execution_count": 9,
   "id": "a7587bad-9226-4116-b757-5adc0860eb39",
   "metadata": {},
   "outputs": [
    {
     "data": {
      "text/plain": [
       "array([[17.64705882, 37.18592965, 29.50819672, ..., 25.03725782,\n",
       "        11.72075149, 24.16666667],\n",
       "       [ 2.94117647, 21.35678392, 27.04918033, ..., 19.82116244,\n",
       "         5.82835184,  8.33333333],\n",
       "       [23.52941176, 45.9798995 , 26.2295082 , ..., 17.36214605,\n",
       "        12.68146883,  9.16666667],\n",
       "       ...,\n",
       "       [14.70588235, 30.40201005, 29.50819672, ..., 19.52309985,\n",
       "         3.56532878,  7.5       ],\n",
       "       [ 2.94117647, 31.65829146, 24.59016393, ..., 22.42921013,\n",
       "         5.78565329, 21.66666667],\n",
       "       [ 2.94117647, 23.36683417, 28.68852459, ..., 22.65275708,\n",
       "         5.05977797,  1.66666667]])"
      ]
     },
     "execution_count": 9,
     "metadata": {},
     "output_type": "execute_result"
    }
   ],
   "source": [
    "scaler= MinMaxScaler(feature_range = (0,50))\n",
    "x= df.iloc[:,:-1]\n",
    "rescaledX = scaler.fit_transform(x)\n",
    "rescaledX\n"
   ]
  },
  {
   "cell_type": "markdown",
   "id": "9abbdde8-a741-4bd4-b27f-0ac42907717c",
   "metadata": {},
   "source": [
    "Now, Impossible cases such as BMI being 0 and Blood Pressure Being 0 are Dropped, Now we can work on training our model"
   ]
  },
  {
   "cell_type": "markdown",
   "id": "eafb34b9-68bf-4d1e-9de6-9c2b7a02103f",
   "metadata": {},
   "source": [
    "My data seems to be clean, Will start implementing a NN to predict if a person is diabetic or not"
   ]
  },
  {
   "cell_type": "code",
   "execution_count": null,
   "id": "dc95d58c-7f4a-40b9-aa15-d759c4ef0d2f",
   "metadata": {},
   "outputs": [],
   "source": []
  },
  {
   "cell_type": "code",
   "execution_count": 10,
   "id": "67514bfb-20f5-49cf-a521-279ccaa4615b",
   "metadata": {},
   "outputs": [
    {
     "data": {
      "text/plain": [
       "(768, 4)"
      ]
     },
     "execution_count": 10,
     "metadata": {},
     "output_type": "execute_result"
    }
   ],
   "source": [
    "X= np.array(df[['Glucose','BloodPressure','Insulin','BMI']])\n",
    "Y= np.array(df['Outcome'])\n",
    "\n",
    "layer_1 = Dense(units=4, activation=\"sigmoid\")\n",
    "layer_2 = Dense(units=1,activation=\"sigmoid\")\n",
    "model=Sequential([layer_1,layer_2])\n",
    "X.shape"
   ]
  },
  {
   "cell_type": "code",
   "execution_count": 11,
   "id": "5c5147c7-4854-44bd-b2cd-e382f12393dd",
   "metadata": {},
   "outputs": [
    {
     "data": {
      "text/plain": [
       "(768,)"
      ]
     },
     "execution_count": 11,
     "metadata": {},
     "output_type": "execute_result"
    }
   ],
   "source": [
    "Y.shape"
   ]
  },
  {
   "cell_type": "markdown",
   "id": "fe693ad2-6964-4c44-9e78-8e652d1a531d",
   "metadata": {},
   "source": [
    "Splitting Data into Training Dataset\n"
   ]
  },
  {
   "cell_type": "code",
   "execution_count": 12,
   "id": "8dfab592-fc9b-499f-acbf-4b46bfdbbf18",
   "metadata": {},
   "outputs": [],
   "source": [
    "X_train,X_test,Y_train,Y_test= train_test_split(X,Y,test_size=0.2, random_state=42)\n",
    "scaler= StandardScaler()\n",
    "X_train= scaler.fit_transform(X_train)\n",
    "X_test= scaler.transform(X_test)"
   ]
  },
  {
   "cell_type": "code",
   "execution_count": 13,
   "id": "42ac80df-accf-4763-b42b-067a72158b04",
   "metadata": {},
   "outputs": [
    {
     "name": "stderr",
     "output_type": "stream",
     "text": [
      "C:\\Users\\piyus\\AppData\\Roaming\\Python\\Python312\\site-packages\\keras\\src\\layers\\core\\dense.py:87: UserWarning: Do not pass an `input_shape`/`input_dim` argument to a layer. When using Sequential models, prefer using an `Input(shape)` object as the first layer in the model instead.\n",
      "  super().__init__(activity_regularizer=activity_regularizer, **kwargs)\n"
     ]
    }
   ],
   "source": [
    "#Define Model\n",
    "Layer_1= Dense(units=8, input_dim=X_train.shape[1],activation='relu')\n",
    "Layer_2= Dense(units=4,activation='relu')\n",
    "Layer_3= Dense(units=1,activation='sigmoid')\n",
    "\n",
    "model = Sequential([Layer_1,Layer_2,Layer_3])\n",
    "\n",
    "model.compile(optimizer='adam', loss='binary_crossentropy', metrics=['accuracy'])"
   ]
  },
  {
   "cell_type": "code",
   "execution_count": 14,
   "id": "5b1b0237-d24b-4004-9e52-85c8883da983",
   "metadata": {},
   "outputs": [
    {
     "name": "stdout",
     "output_type": "stream",
     "text": [
      "Epoch 1/50\n",
      "\u001b[1m39/39\u001b[0m \u001b[32m━━━━━━━━━━━━━━━━━━━━\u001b[0m\u001b[37m\u001b[0m \u001b[1m3s\u001b[0m 11ms/step - accuracy: 0.5034 - loss: 0.6944 - val_accuracy: 0.5974 - val_loss: 0.6698\n",
      "Epoch 2/50\n",
      "\u001b[1m39/39\u001b[0m \u001b[32m━━━━━━━━━━━━━━━━━━━━\u001b[0m\u001b[37m\u001b[0m \u001b[1m0s\u001b[0m 3ms/step - accuracy: 0.6524 - loss: 0.6512 - val_accuracy: 0.6948 - val_loss: 0.6505\n",
      "Epoch 3/50\n",
      "\u001b[1m39/39\u001b[0m \u001b[32m━━━━━━━━━━━━━━━━━━━━\u001b[0m\u001b[37m\u001b[0m \u001b[1m0s\u001b[0m 3ms/step - accuracy: 0.6857 - loss: 0.6301 - val_accuracy: 0.7468 - val_loss: 0.6355\n",
      "Epoch 4/50\n",
      "\u001b[1m39/39\u001b[0m \u001b[32m━━━━━━━━━━━━━━━━━━━━\u001b[0m\u001b[37m\u001b[0m \u001b[1m0s\u001b[0m 3ms/step - accuracy: 0.6872 - loss: 0.6173 - val_accuracy: 0.7403 - val_loss: 0.6206\n",
      "Epoch 5/50\n",
      "\u001b[1m39/39\u001b[0m \u001b[32m━━━━━━━━━━━━━━━━━━━━\u001b[0m\u001b[37m\u001b[0m \u001b[1m0s\u001b[0m 3ms/step - accuracy: 0.7128 - loss: 0.5978 - val_accuracy: 0.7532 - val_loss: 0.6064\n",
      "Epoch 6/50\n",
      "\u001b[1m39/39\u001b[0m \u001b[32m━━━━━━━━━━━━━━━━━━━━\u001b[0m\u001b[37m\u001b[0m \u001b[1m0s\u001b[0m 3ms/step - accuracy: 0.7005 - loss: 0.5846 - val_accuracy: 0.7727 - val_loss: 0.5951\n",
      "Epoch 7/50\n",
      "\u001b[1m39/39\u001b[0m \u001b[32m━━━━━━━━━━━━━━━━━━━━\u001b[0m\u001b[37m\u001b[0m \u001b[1m0s\u001b[0m 3ms/step - accuracy: 0.7368 - loss: 0.5519 - val_accuracy: 0.7662 - val_loss: 0.5847\n",
      "Epoch 8/50\n",
      "\u001b[1m39/39\u001b[0m \u001b[32m━━━━━━━━━━━━━━━━━━━━\u001b[0m\u001b[37m\u001b[0m \u001b[1m0s\u001b[0m 3ms/step - accuracy: 0.7570 - loss: 0.5431 - val_accuracy: 0.7662 - val_loss: 0.5769\n",
      "Epoch 9/50\n",
      "\u001b[1m39/39\u001b[0m \u001b[32m━━━━━━━━━━━━━━━━━━━━\u001b[0m\u001b[37m\u001b[0m \u001b[1m0s\u001b[0m 3ms/step - accuracy: 0.7642 - loss: 0.5396 - val_accuracy: 0.7532 - val_loss: 0.5710\n",
      "Epoch 10/50\n",
      "\u001b[1m39/39\u001b[0m \u001b[32m━━━━━━━━━━━━━━━━━━━━\u001b[0m\u001b[37m\u001b[0m \u001b[1m0s\u001b[0m 3ms/step - accuracy: 0.7329 - loss: 0.5423 - val_accuracy: 0.7338 - val_loss: 0.5667\n",
      "Epoch 11/50\n",
      "\u001b[1m39/39\u001b[0m \u001b[32m━━━━━━━━━━━━━━━━━━━━\u001b[0m\u001b[37m\u001b[0m \u001b[1m0s\u001b[0m 3ms/step - accuracy: 0.7613 - loss: 0.5160 - val_accuracy: 0.7338 - val_loss: 0.5621\n",
      "Epoch 12/50\n",
      "\u001b[1m39/39\u001b[0m \u001b[32m━━━━━━━━━━━━━━━━━━━━\u001b[0m\u001b[37m\u001b[0m \u001b[1m0s\u001b[0m 3ms/step - accuracy: 0.7652 - loss: 0.5105 - val_accuracy: 0.7338 - val_loss: 0.5587\n",
      "Epoch 13/50\n",
      "\u001b[1m39/39\u001b[0m \u001b[32m━━━━━━━━━━━━━━━━━━━━\u001b[0m\u001b[37m\u001b[0m \u001b[1m0s\u001b[0m 3ms/step - accuracy: 0.7563 - loss: 0.5168 - val_accuracy: 0.7403 - val_loss: 0.5569\n",
      "Epoch 14/50\n",
      "\u001b[1m39/39\u001b[0m \u001b[32m━━━━━━━━━━━━━━━━━━━━\u001b[0m\u001b[37m\u001b[0m \u001b[1m0s\u001b[0m 3ms/step - accuracy: 0.7781 - loss: 0.4850 - val_accuracy: 0.7338 - val_loss: 0.5575\n",
      "Epoch 15/50\n",
      "\u001b[1m39/39\u001b[0m \u001b[32m━━━━━━━━━━━━━━━━━━━━\u001b[0m\u001b[37m\u001b[0m \u001b[1m0s\u001b[0m 3ms/step - accuracy: 0.7481 - loss: 0.5068 - val_accuracy: 0.7403 - val_loss: 0.5568\n",
      "Epoch 16/50\n",
      "\u001b[1m39/39\u001b[0m \u001b[32m━━━━━━━━━━━━━━━━━━━━\u001b[0m\u001b[37m\u001b[0m \u001b[1m0s\u001b[0m 3ms/step - accuracy: 0.7123 - loss: 0.5281 - val_accuracy: 0.7338 - val_loss: 0.5565\n",
      "Epoch 17/50\n",
      "\u001b[1m39/39\u001b[0m \u001b[32m━━━━━━━━━━━━━━━━━━━━\u001b[0m\u001b[37m\u001b[0m \u001b[1m0s\u001b[0m 3ms/step - accuracy: 0.7603 - loss: 0.4806 - val_accuracy: 0.7338 - val_loss: 0.5581\n",
      "Epoch 18/50\n",
      "\u001b[1m39/39\u001b[0m \u001b[32m━━━━━━━━━━━━━━━━━━━━\u001b[0m\u001b[37m\u001b[0m \u001b[1m0s\u001b[0m 3ms/step - accuracy: 0.7313 - loss: 0.5055 - val_accuracy: 0.7338 - val_loss: 0.5578\n",
      "Epoch 19/50\n",
      "\u001b[1m39/39\u001b[0m \u001b[32m━━━━━━━━━━━━━━━━━━━━\u001b[0m\u001b[37m\u001b[0m \u001b[1m0s\u001b[0m 3ms/step - accuracy: 0.7680 - loss: 0.4767 - val_accuracy: 0.7403 - val_loss: 0.5578\n",
      "Epoch 20/50\n",
      "\u001b[1m39/39\u001b[0m \u001b[32m━━━━━━━━━━━━━━━━━━━━\u001b[0m\u001b[37m\u001b[0m \u001b[1m0s\u001b[0m 4ms/step - accuracy: 0.7380 - loss: 0.5044 - val_accuracy: 0.7403 - val_loss: 0.5591\n",
      "Epoch 21/50\n",
      "\u001b[1m39/39\u001b[0m \u001b[32m━━━━━━━━━━━━━━━━━━━━\u001b[0m\u001b[37m\u001b[0m \u001b[1m0s\u001b[0m 3ms/step - accuracy: 0.7781 - loss: 0.4720 - val_accuracy: 0.7403 - val_loss: 0.5594\n",
      "Epoch 22/50\n",
      "\u001b[1m39/39\u001b[0m \u001b[32m━━━━━━━━━━━━━━━━━━━━\u001b[0m\u001b[37m\u001b[0m \u001b[1m0s\u001b[0m 3ms/step - accuracy: 0.7506 - loss: 0.5124 - val_accuracy: 0.7403 - val_loss: 0.5585\n",
      "Epoch 23/50\n",
      "\u001b[1m39/39\u001b[0m \u001b[32m━━━━━━━━━━━━━━━━━━━━\u001b[0m\u001b[37m\u001b[0m \u001b[1m0s\u001b[0m 3ms/step - accuracy: 0.7695 - loss: 0.4804 - val_accuracy: 0.7403 - val_loss: 0.5570\n",
      "Epoch 24/50\n",
      "\u001b[1m39/39\u001b[0m \u001b[32m━━━━━━━━━━━━━━━━━━━━\u001b[0m\u001b[37m\u001b[0m \u001b[1m0s\u001b[0m 3ms/step - accuracy: 0.7852 - loss: 0.4791 - val_accuracy: 0.7403 - val_loss: 0.5574\n",
      "Epoch 25/50\n",
      "\u001b[1m39/39\u001b[0m \u001b[32m━━━━━━━━━━━━━━━━━━━━\u001b[0m\u001b[37m\u001b[0m \u001b[1m0s\u001b[0m 3ms/step - accuracy: 0.7553 - loss: 0.4807 - val_accuracy: 0.7403 - val_loss: 0.5571\n",
      "Epoch 26/50\n",
      "\u001b[1m39/39\u001b[0m \u001b[32m━━━━━━━━━━━━━━━━━━━━\u001b[0m\u001b[37m\u001b[0m \u001b[1m0s\u001b[0m 3ms/step - accuracy: 0.7662 - loss: 0.4822 - val_accuracy: 0.7468 - val_loss: 0.5564\n",
      "Epoch 27/50\n",
      "\u001b[1m39/39\u001b[0m \u001b[32m━━━━━━━━━━━━━━━━━━━━\u001b[0m\u001b[37m\u001b[0m \u001b[1m0s\u001b[0m 3ms/step - accuracy: 0.7447 - loss: 0.4912 - val_accuracy: 0.7468 - val_loss: 0.5572\n",
      "Epoch 28/50\n",
      "\u001b[1m39/39\u001b[0m \u001b[32m━━━━━━━━━━━━━━━━━━━━\u001b[0m\u001b[37m\u001b[0m \u001b[1m0s\u001b[0m 4ms/step - accuracy: 0.7581 - loss: 0.4990 - val_accuracy: 0.7532 - val_loss: 0.5577\n",
      "Epoch 29/50\n",
      "\u001b[1m39/39\u001b[0m \u001b[32m━━━━━━━━━━━━━━━━━━━━\u001b[0m\u001b[37m\u001b[0m \u001b[1m0s\u001b[0m 3ms/step - accuracy: 0.7694 - loss: 0.4693 - val_accuracy: 0.7468 - val_loss: 0.5569\n",
      "Epoch 30/50\n",
      "\u001b[1m39/39\u001b[0m \u001b[32m━━━━━━━━━━━━━━━━━━━━\u001b[0m\u001b[37m\u001b[0m \u001b[1m0s\u001b[0m 3ms/step - accuracy: 0.7707 - loss: 0.4828 - val_accuracy: 0.7468 - val_loss: 0.5565\n",
      "Epoch 31/50\n",
      "\u001b[1m39/39\u001b[0m \u001b[32m━━━━━━━━━━━━━━━━━━━━\u001b[0m\u001b[37m\u001b[0m \u001b[1m0s\u001b[0m 3ms/step - accuracy: 0.7382 - loss: 0.5114 - val_accuracy: 0.7468 - val_loss: 0.5565\n",
      "Epoch 32/50\n",
      "\u001b[1m39/39\u001b[0m \u001b[32m━━━━━━━━━━━━━━━━━━━━\u001b[0m\u001b[37m\u001b[0m \u001b[1m0s\u001b[0m 3ms/step - accuracy: 0.7580 - loss: 0.4928 - val_accuracy: 0.7403 - val_loss: 0.5555\n",
      "Epoch 33/50\n",
      "\u001b[1m39/39\u001b[0m \u001b[32m━━━━━━━━━━━━━━━━━━━━\u001b[0m\u001b[37m\u001b[0m \u001b[1m0s\u001b[0m 3ms/step - accuracy: 0.7777 - loss: 0.4606 - val_accuracy: 0.7468 - val_loss: 0.5572\n",
      "Epoch 34/50\n",
      "\u001b[1m39/39\u001b[0m \u001b[32m━━━━━━━━━━━━━━━━━━━━\u001b[0m\u001b[37m\u001b[0m \u001b[1m0s\u001b[0m 3ms/step - accuracy: 0.7477 - loss: 0.4953 - val_accuracy: 0.7468 - val_loss: 0.5564\n",
      "Epoch 35/50\n",
      "\u001b[1m39/39\u001b[0m \u001b[32m━━━━━━━━━━━━━━━━━━━━\u001b[0m\u001b[37m\u001b[0m \u001b[1m0s\u001b[0m 3ms/step - accuracy: 0.7740 - loss: 0.4675 - val_accuracy: 0.7403 - val_loss: 0.5577\n",
      "Epoch 36/50\n",
      "\u001b[1m39/39\u001b[0m \u001b[32m━━━━━━━━━━━━━━━━━━━━\u001b[0m\u001b[37m\u001b[0m \u001b[1m0s\u001b[0m 3ms/step - accuracy: 0.7673 - loss: 0.4852 - val_accuracy: 0.7468 - val_loss: 0.5581\n",
      "Epoch 37/50\n",
      "\u001b[1m39/39\u001b[0m \u001b[32m━━━━━━━━━━━━━━━━━━━━\u001b[0m\u001b[37m\u001b[0m \u001b[1m0s\u001b[0m 5ms/step - accuracy: 0.7772 - loss: 0.4719 - val_accuracy: 0.7468 - val_loss: 0.5584\n",
      "Epoch 38/50\n",
      "\u001b[1m39/39\u001b[0m \u001b[32m━━━━━━━━━━━━━━━━━━━━\u001b[0m\u001b[37m\u001b[0m \u001b[1m0s\u001b[0m 3ms/step - accuracy: 0.7664 - loss: 0.4770 - val_accuracy: 0.7468 - val_loss: 0.5589\n",
      "Epoch 39/50\n",
      "\u001b[1m39/39\u001b[0m \u001b[32m━━━━━━━━━━━━━━━━━━━━\u001b[0m\u001b[37m\u001b[0m \u001b[1m0s\u001b[0m 3ms/step - accuracy: 0.7740 - loss: 0.4922 - val_accuracy: 0.7468 - val_loss: 0.5589\n",
      "Epoch 40/50\n",
      "\u001b[1m39/39\u001b[0m \u001b[32m━━━━━━━━━━━━━━━━━━━━\u001b[0m\u001b[37m\u001b[0m \u001b[1m0s\u001b[0m 3ms/step - accuracy: 0.7478 - loss: 0.5122 - val_accuracy: 0.7468 - val_loss: 0.5594\n",
      "Epoch 41/50\n",
      "\u001b[1m39/39\u001b[0m \u001b[32m━━━━━━━━━━━━━━━━━━━━\u001b[0m\u001b[37m\u001b[0m \u001b[1m0s\u001b[0m 3ms/step - accuracy: 0.7580 - loss: 0.4863 - val_accuracy: 0.7468 - val_loss: 0.5607\n",
      "Epoch 42/50\n",
      "\u001b[1m39/39\u001b[0m \u001b[32m━━━━━━━━━━━━━━━━━━━━\u001b[0m\u001b[37m\u001b[0m \u001b[1m0s\u001b[0m 3ms/step - accuracy: 0.7496 - loss: 0.4758 - val_accuracy: 0.7403 - val_loss: 0.5598\n",
      "Epoch 43/50\n",
      "\u001b[1m39/39\u001b[0m \u001b[32m━━━━━━━━━━━━━━━━━━━━\u001b[0m\u001b[37m\u001b[0m \u001b[1m0s\u001b[0m 3ms/step - accuracy: 0.7604 - loss: 0.4873 - val_accuracy: 0.7403 - val_loss: 0.5596\n",
      "Epoch 44/50\n",
      "\u001b[1m39/39\u001b[0m \u001b[32m━━━━━━━━━━━━━━━━━━━━\u001b[0m\u001b[37m\u001b[0m \u001b[1m0s\u001b[0m 3ms/step - accuracy: 0.7640 - loss: 0.4726 - val_accuracy: 0.7403 - val_loss: 0.5596\n",
      "Epoch 45/50\n",
      "\u001b[1m39/39\u001b[0m \u001b[32m━━━━━━━━━━━━━━━━━━━━\u001b[0m\u001b[37m\u001b[0m \u001b[1m0s\u001b[0m 3ms/step - accuracy: 0.7484 - loss: 0.4897 - val_accuracy: 0.7532 - val_loss: 0.5622\n",
      "Epoch 46/50\n",
      "\u001b[1m39/39\u001b[0m \u001b[32m━━━━━━━━━━━━━━━━━━━━\u001b[0m\u001b[37m\u001b[0m \u001b[1m0s\u001b[0m 3ms/step - accuracy: 0.7586 - loss: 0.4585 - val_accuracy: 0.7468 - val_loss: 0.5614\n",
      "Epoch 47/50\n",
      "\u001b[1m39/39\u001b[0m \u001b[32m━━━━━━━━━━━━━━━━━━━━\u001b[0m\u001b[37m\u001b[0m \u001b[1m0s\u001b[0m 3ms/step - accuracy: 0.7638 - loss: 0.4969 - val_accuracy: 0.7468 - val_loss: 0.5598\n",
      "Epoch 48/50\n",
      "\u001b[1m39/39\u001b[0m \u001b[32m━━━━━━━━━━━━━━━━━━━━\u001b[0m\u001b[37m\u001b[0m \u001b[1m0s\u001b[0m 3ms/step - accuracy: 0.7496 - loss: 0.4755 - val_accuracy: 0.7532 - val_loss: 0.5601\n",
      "Epoch 49/50\n",
      "\u001b[1m39/39\u001b[0m \u001b[32m━━━━━━━━━━━━━━━━━━━━\u001b[0m\u001b[37m\u001b[0m \u001b[1m0s\u001b[0m 3ms/step - accuracy: 0.7965 - loss: 0.4577 - val_accuracy: 0.7532 - val_loss: 0.5618\n",
      "Epoch 50/50\n",
      "\u001b[1m39/39\u001b[0m \u001b[32m━━━━━━━━━━━━━━━━━━━━\u001b[0m\u001b[37m\u001b[0m \u001b[1m0s\u001b[0m 3ms/step - accuracy: 0.7672 - loss: 0.4629 - val_accuracy: 0.7532 - val_loss: 0.5618\n"
     ]
    },
    {
     "data": {
      "text/plain": [
       "<keras.src.callbacks.history.History at 0x29b9c540dd0>"
      ]
     },
     "execution_count": 14,
     "metadata": {},
     "output_type": "execute_result"
    }
   ],
   "source": [
    "model.fit(X_train,Y_train, epochs=50,batch_size=16, validation_data=(X_test,Y_test))\n"
   ]
  },
  {
   "cell_type": "code",
   "execution_count": 15,
   "id": "4b211bdc-ac11-42a6-8b6d-f91050bae4bd",
   "metadata": {},
   "outputs": [
    {
     "name": "stdout",
     "output_type": "stream",
     "text": [
      "\u001b[1m5/5\u001b[0m \u001b[32m━━━━━━━━━━━━━━━━━━━━\u001b[0m\u001b[37m\u001b[0m \u001b[1m0s\u001b[0m 3ms/step - accuracy: 0.7541 - loss: 0.5458 \n",
      "Test Accuracy:0.75\n"
     ]
    }
   ],
   "source": [
    "loss, accuracy= model.evaluate(X_test,Y_test)\n",
    "print(f\"Test Accuracy:{accuracy:.2f}\")"
   ]
  },
  {
   "cell_type": "code",
   "execution_count": 16,
   "id": "b6addec5-9a9f-453b-aa69-f5af57d111cc",
   "metadata": {},
   "outputs": [
    {
     "data": {
      "text/plain": [
       "(154, 4)"
      ]
     },
     "execution_count": 16,
     "metadata": {},
     "output_type": "execute_result"
    }
   ],
   "source": [
    "X_test.shape\n"
   ]
  },
  {
   "cell_type": "code",
   "execution_count": 17,
   "id": "b4a1502f-9754-40ae-9ebd-83431b31f5db",
   "metadata": {},
   "outputs": [
    {
     "name": "stdout",
     "output_type": "stream",
     "text": [
      "\u001b[1m5/5\u001b[0m \u001b[32m━━━━━━━━━━━━━━━━━━━━\u001b[0m\u001b[37m\u001b[0m \u001b[1m0s\u001b[0m 12ms/step\n",
      "Sample 1: Test Result: 0.13 - Safe for now\n",
      "Sample 2: Test Result: 0.37 - Safe for now\n",
      "Sample 3: Test Result: 0.19 - Safe for now\n",
      "Sample 4: Test Result: 0.14 - Safe for now\n",
      "Sample 5: Test Result: 0.44 - Safe for now\n",
      "Sample 6: Test Result: 0.29 - Safe for now\n",
      "Sample 7: Test Result: 0.01 - Safe for now\n",
      "Sample 8: Test Result: 0.77 - Patient is Diabetic\n",
      "Sample 9: Test Result: 0.64 - Patient is Diabetic\n",
      "Sample 10: Test Result: 0.60 - Patient is Diabetic\n",
      "Sample 11: Test Result: 0.16 - Safe for now\n",
      "Sample 12: Test Result: 0.87 - Patient is Diabetic\n",
      "Sample 13: Test Result: 0.26 - Safe for now\n",
      "Sample 14: Test Result: 0.22 - Safe for now\n",
      "Sample 15: Test Result: 0.08 - Safe for now\n",
      "Sample 16: Test Result: 0.25 - Safe for now\n",
      "Sample 17: Test Result: 0.31 - Safe for now\n",
      "Sample 18: Test Result: 0.11 - Safe for now\n",
      "Sample 19: Test Result: 0.93 - Patient is Diabetic\n",
      "Sample 20: Test Result: 0.63 - Patient is Diabetic\n",
      "Sample 21: Test Result: 0.19 - Safe for now\n",
      "Sample 22: Test Result: 0.17 - Safe for now\n",
      "Sample 23: Test Result: 0.36 - Safe for now\n",
      "Sample 24: Test Result: 0.16 - Safe for now\n",
      "Sample 25: Test Result: 0.41 - Safe for now\n",
      "Sample 26: Test Result: 0.91 - Patient is Diabetic\n",
      "Sample 27: Test Result: 0.08 - Safe for now\n",
      "Sample 28: Test Result: 0.04 - Safe for now\n",
      "Sample 29: Test Result: 0.33 - Safe for now\n",
      "Sample 30: Test Result: 0.14 - Safe for now\n",
      "Sample 31: Test Result: 0.90 - Patient is Diabetic\n",
      "Sample 32: Test Result: 0.64 - Patient is Diabetic\n",
      "Sample 33: Test Result: 0.90 - Patient is Diabetic\n",
      "Sample 34: Test Result: 0.92 - Patient is Diabetic\n",
      "Sample 35: Test Result: 0.38 - Safe for now\n",
      "Sample 36: Test Result: 0.64 - Patient is Diabetic\n",
      "Sample 37: Test Result: 0.94 - Patient is Diabetic\n",
      "Sample 38: Test Result: 0.32 - Safe for now\n",
      "Sample 39: Test Result: 0.21 - Safe for now\n",
      "Sample 40: Test Result: 0.89 - Patient is Diabetic\n",
      "Sample 41: Test Result: 0.06 - Safe for now\n",
      "Sample 42: Test Result: 0.33 - Safe for now\n",
      "Sample 43: Test Result: 0.36 - Safe for now\n",
      "Sample 44: Test Result: 0.24 - Safe for now\n",
      "Sample 45: Test Result: 0.07 - Safe for now\n",
      "Sample 46: Test Result: 0.62 - Patient is Diabetic\n",
      "Sample 47: Test Result: 0.31 - Safe for now\n",
      "Sample 48: Test Result: 0.34 - Safe for now\n",
      "Sample 49: Test Result: 0.10 - Safe for now\n",
      "Sample 50: Test Result: 0.90 - Patient is Diabetic\n",
      "Sample 51: Test Result: 0.07 - Safe for now\n",
      "Sample 52: Test Result: 0.52 - Patient is Diabetic\n",
      "Sample 53: Test Result: 0.51 - Patient is Diabetic\n",
      "Sample 54: Test Result: 0.42 - Safe for now\n",
      "Sample 55: Test Result: 0.07 - Safe for now\n",
      "Sample 56: Test Result: 0.09 - Safe for now\n",
      "Sample 57: Test Result: 0.65 - Patient is Diabetic\n",
      "Sample 58: Test Result: 0.00 - Safe for now\n",
      "Sample 59: Test Result: 0.40 - Safe for now\n",
      "Sample 60: Test Result: 0.77 - Patient is Diabetic\n",
      "Sample 61: Test Result: 0.67 - Patient is Diabetic\n",
      "Sample 62: Test Result: 0.46 - Safe for now\n",
      "Sample 63: Test Result: 0.17 - Safe for now\n",
      "Sample 64: Test Result: 0.06 - Safe for now\n",
      "Sample 65: Test Result: 0.29 - Safe for now\n",
      "Sample 66: Test Result: 0.70 - Patient is Diabetic\n",
      "Sample 67: Test Result: 0.07 - Safe for now\n",
      "Sample 68: Test Result: 0.67 - Patient is Diabetic\n",
      "Sample 69: Test Result: 0.05 - Safe for now\n",
      "Sample 70: Test Result: 0.69 - Patient is Diabetic\n",
      "Sample 71: Test Result: 0.51 - Patient is Diabetic\n",
      "Sample 72: Test Result: 0.15 - Safe for now\n",
      "Sample 73: Test Result: 0.07 - Safe for now\n",
      "Sample 74: Test Result: 0.31 - Safe for now\n",
      "Sample 75: Test Result: 0.08 - Safe for now\n",
      "Sample 76: Test Result: 0.41 - Safe for now\n",
      "Sample 77: Test Result: 0.09 - Safe for now\n",
      "Sample 78: Test Result: 0.04 - Safe for now\n",
      "Sample 79: Test Result: 0.15 - Safe for now\n",
      "Sample 80: Test Result: 0.35 - Safe for now\n",
      "Sample 81: Test Result: 0.66 - Patient is Diabetic\n",
      "Sample 82: Test Result: 0.20 - Safe for now\n",
      "Sample 83: Test Result: 0.08 - Safe for now\n",
      "Sample 84: Test Result: 0.58 - Patient is Diabetic\n",
      "Sample 85: Test Result: 0.38 - Safe for now\n",
      "Sample 86: Test Result: 0.91 - Patient is Diabetic\n",
      "Sample 87: Test Result: 0.82 - Patient is Diabetic\n",
      "Sample 88: Test Result: 0.25 - Safe for now\n",
      "Sample 89: Test Result: 0.17 - Safe for now\n",
      "Sample 90: Test Result: 0.12 - Safe for now\n",
      "Sample 91: Test Result: 0.07 - Safe for now\n",
      "Sample 92: Test Result: 0.34 - Safe for now\n",
      "Sample 93: Test Result: 0.00 - Safe for now\n",
      "Sample 94: Test Result: 0.55 - Patient is Diabetic\n",
      "Sample 95: Test Result: 0.55 - Patient is Diabetic\n",
      "Sample 96: Test Result: 0.66 - Patient is Diabetic\n",
      "Sample 97: Test Result: 0.22 - Safe for now\n",
      "Sample 98: Test Result: 0.21 - Safe for now\n",
      "Sample 99: Test Result: 0.73 - Patient is Diabetic\n",
      "Sample 100: Test Result: 0.15 - Safe for now\n",
      "Sample 101: Test Result: 0.76 - Patient is Diabetic\n",
      "Sample 102: Test Result: 0.27 - Safe for now\n",
      "Sample 103: Test Result: 0.50 - Patient is Diabetic\n",
      "Sample 104: Test Result: 0.63 - Patient is Diabetic\n",
      "Sample 105: Test Result: 0.71 - Patient is Diabetic\n",
      "Sample 106: Test Result: 0.40 - Safe for now\n",
      "Sample 107: Test Result: 0.12 - Safe for now\n",
      "Sample 108: Test Result: 0.83 - Patient is Diabetic\n",
      "Sample 109: Test Result: 0.20 - Safe for now\n",
      "Sample 110: Test Result: 0.34 - Safe for now\n",
      "Sample 111: Test Result: 0.10 - Safe for now\n",
      "Sample 112: Test Result: 0.79 - Patient is Diabetic\n",
      "Sample 113: Test Result: 0.00 - Safe for now\n",
      "Sample 114: Test Result: 0.80 - Patient is Diabetic\n",
      "Sample 115: Test Result: 0.25 - Safe for now\n",
      "Sample 116: Test Result: 0.50 - Patient is Diabetic\n",
      "Sample 117: Test Result: 0.77 - Patient is Diabetic\n",
      "Sample 118: Test Result: 0.26 - Safe for now\n",
      "Sample 119: Test Result: 0.08 - Safe for now\n",
      "Sample 120: Test Result: 0.80 - Patient is Diabetic\n",
      "Sample 121: Test Result: 0.06 - Safe for now\n",
      "Sample 122: Test Result: 0.33 - Safe for now\n",
      "Sample 123: Test Result: 0.27 - Safe for now\n",
      "Sample 124: Test Result: 0.05 - Safe for now\n",
      "Sample 125: Test Result: 0.54 - Patient is Diabetic\n",
      "Sample 126: Test Result: 0.20 - Safe for now\n",
      "Sample 127: Test Result: 0.00 - Safe for now\n",
      "Sample 128: Test Result: 0.67 - Patient is Diabetic\n",
      "Sample 129: Test Result: 0.93 - Patient is Diabetic\n",
      "Sample 130: Test Result: 0.88 - Patient is Diabetic\n",
      "Sample 131: Test Result: 0.80 - Patient is Diabetic\n",
      "Sample 132: Test Result: 0.73 - Patient is Diabetic\n",
      "Sample 133: Test Result: 0.05 - Safe for now\n",
      "Sample 134: Test Result: 0.30 - Safe for now\n",
      "Sample 135: Test Result: 0.90 - Patient is Diabetic\n",
      "Sample 136: Test Result: 0.20 - Safe for now\n",
      "Sample 137: Test Result: 0.26 - Safe for now\n",
      "Sample 138: Test Result: 0.77 - Patient is Diabetic\n",
      "Sample 139: Test Result: 0.63 - Patient is Diabetic\n",
      "Sample 140: Test Result: 0.02 - Safe for now\n",
      "Sample 141: Test Result: 0.10 - Safe for now\n",
      "Sample 142: Test Result: 0.05 - Safe for now\n",
      "Sample 143: Test Result: 0.29 - Safe for now\n",
      "Sample 144: Test Result: 0.43 - Safe for now\n",
      "Sample 145: Test Result: 0.27 - Safe for now\n",
      "Sample 146: Test Result: 0.33 - Safe for now\n",
      "Sample 147: Test Result: 0.13 - Safe for now\n",
      "Sample 148: Test Result: 0.02 - Safe for now\n",
      "Sample 149: Test Result: 0.40 - Safe for now\n",
      "Sample 150: Test Result: 0.76 - Patient is Diabetic\n",
      "Sample 151: Test Result: 0.10 - Safe for now\n",
      "Sample 152: Test Result: 0.33 - Safe for now\n",
      "Sample 153: Test Result: 0.30 - Safe for now\n",
      "Sample 154: Test Result: 0.19 - Safe for now\n"
     ]
    }
   ],
   "source": [
    "# Predict for all samples in X_test\n",
    "predictions = model.predict(X_test)\n",
    "\n",
    "# Loop through predictions and interpret\n",
    "for i, p in enumerate(predictions):\n",
    "    probability = p[0]  \n",
    "    if probability > 0.5:\n",
    "        print(f\"Sample {i+1}: Test Result: {probability:.2f} - Patient is Diabetic\")\n",
    "    else:\n",
    "        print(f\"Sample {i+1}: Test Result: {probability:.2f} - Safe for now\")"
   ]
  },
  {
   "cell_type": "code",
   "execution_count": 24,
   "id": "9e313d06-4216-4d4c-b0ca-3b06a7c9fbc0",
   "metadata": {},
   "outputs": [],
   "source": [
    "def compute_cost(x,y,w,b):\n",
    "    total=0\n",
    "    m= x.shape[0]\n",
    "    for i in range (m):\n",
    "        prediction= w* x[i] + b\n",
    "        error= prediction- y[i]\n",
    "        total+= error**2\n",
    "    total= total/(2*m)\n",
    "    return total\n",
    "        "
   ]
  },
  {
   "cell_type": "code",
   "execution_count": 26,
   "id": "a53e7bfe-3cc3-4fa4-8986-d1fb0955c342",
   "metadata": {},
   "outputs": [
    {
     "name": "stdout",
     "output_type": "stream",
     "text": [
      "[1.8923371  2.24844201 2.22326074 2.03492495]\n"
     ]
    }
   ],
   "source": [
    "initial_w=2\n",
    "initial_b=1\n",
    "costFunc= compute_cost(X_train,Y_train,initial_w, initial_b)\n",
    "print(costFunc)"
   ]
  },
  {
   "cell_type": "code",
   "execution_count": null,
   "id": "f905536e-b2cd-4224-9b02-1e0a475345d1",
   "metadata": {},
   "outputs": [],
   "source": []
  }
 ],
 "metadata": {
  "kernelspec": {
   "display_name": "Python 3 (ipykernel)",
   "language": "python",
   "name": "python3"
  },
  "language_info": {
   "codemirror_mode": {
    "name": "ipython",
    "version": 3
   },
   "file_extension": ".py",
   "mimetype": "text/x-python",
   "name": "python",
   "nbconvert_exporter": "python",
   "pygments_lexer": "ipython3",
   "version": "3.12.0"
  }
 },
 "nbformat": 4,
 "nbformat_minor": 5
}
