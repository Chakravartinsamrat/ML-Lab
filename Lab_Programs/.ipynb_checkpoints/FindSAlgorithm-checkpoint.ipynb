{
 "cells": [
  {
   "cell_type": "code",
   "execution_count": 1,
   "id": "94d8b69c-6328-4c74-9268-85fdd2ef91ff",
   "metadata": {},
   "outputs": [],
   "source": [
    "import csv"
   ]
  },
  {
   "cell_type": "code",
   "execution_count": 2,
   "id": "bb1a96ae-f218-462d-8523-f7fce4e6b40d",
   "metadata": {},
   "outputs": [
    {
     "name": "stdout",
     "output_type": "stream",
     "text": [
      "[['sunny', 'warm', 'normal', 'strong', 'warm', 'same', 'YES'], ['sunny', 'warm', 'high', 'strong', 'warm', 'same', 'YES'], ['rainy', 'cold', 'high', 'strong', 'warm', 'change', 'NO'], ['sunny', 'warm', 'high', 'strong', 'cool', 'change', 'YES']]\n"
     ]
    }
   ],
   "source": [
    "filename=\"./datasets_lab/FindSDataset.csv\"\n",
    "with open(filename,'r') as cf:\n",
    "    reader= csv.reader(cf,delimiter=',')\n",
    "    train=[]\n",
    "    for row in reader:\n",
    "        train.append(row)\n",
    "print(train)"
   ]
  },
  {
   "cell_type": "code",
   "execution_count": 4,
   "id": "44f76fa4-1745-4f41-8a44-ab13b428207e",
   "metadata": {},
   "outputs": [],
   "source": [
    "row=4\n",
    "col=6\n",
    "hypo=['0'] * col\n",
    "print(hypo)"
   ]
  },
  {
   "cell_type": "code",
   "execution_count": null,
   "id": "0b021cd1-aa30-4a59-b633-5b5b098a084a",
   "metadata": {},
   "outputs": [],
   "source": [
    "#find s algo\n",
    "for i in range(row):\n",
    "    if(train[i][6]==\"YES\"):"
   ]
  }
 ],
 "metadata": {
  "kernelspec": {
   "display_name": "Python 3 (ipykernel)",
   "language": "python",
   "name": "python3"
  },
  "language_info": {
   "codemirror_mode": {
    "name": "ipython",
    "version": 3
   },
   "file_extension": ".py",
   "mimetype": "text/x-python",
   "name": "python",
   "nbconvert_exporter": "python",
   "pygments_lexer": "ipython3",
   "version": "3.12.0"
  }
 },
 "nbformat": 4,
 "nbformat_minor": 5
}
